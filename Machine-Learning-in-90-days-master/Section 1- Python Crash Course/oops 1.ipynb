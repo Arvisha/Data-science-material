{
 "cells": [
  {
   "cell_type": "code",
   "execution_count": 8,
   "id": "6ab03f35",
   "metadata": {},
   "outputs": [],
   "source": [
    "class car:\n",
    "    def __init__(self,window,door,enginetype):   ## constructor\n",
    "        self.windows = window\n",
    "        self.doors = door\n",
    "        self.enginetypes = enginetype\n",
    "    def self_driving(self):\n",
    "        return \"this is {} car\".format(self.enginetypes)\n",
    "        "
   ]
  },
  {
   "cell_type": "code",
   "execution_count": 9,
   "id": "ebcd58d6",
   "metadata": {},
   "outputs": [],
   "source": [
    "car1 = car(4,4,\"petrol\")"
   ]
  },
  {
   "cell_type": "code",
   "execution_count": 10,
   "id": "5076e4d3",
   "metadata": {},
   "outputs": [
    {
     "data": {
      "text/plain": [
       "'this is petrol car'"
      ]
     },
     "execution_count": 10,
     "metadata": {},
     "output_type": "execute_result"
    }
   ],
   "source": [
    "car1.self_driving()"
   ]
  },
  {
   "cell_type": "code",
   "execution_count": 5,
   "id": "d9101912",
   "metadata": {},
   "outputs": [
    {
     "data": {
      "text/plain": [
       "4"
      ]
     },
     "execution_count": 5,
     "metadata": {},
     "output_type": "execute_result"
    }
   ],
   "source": [
    "car1.windows"
   ]
  },
  {
   "cell_type": "code",
   "execution_count": null,
   "id": "53bd0e2f",
   "metadata": {},
   "outputs": [],
   "source": []
  }
 ],
 "metadata": {
  "kernelspec": {
   "display_name": "Python 3",
   "language": "python",
   "name": "python3"
  },
  "language_info": {
   "codemirror_mode": {
    "name": "ipython",
    "version": 3
   },
   "file_extension": ".py",
   "mimetype": "text/x-python",
   "name": "python",
   "nbconvert_exporter": "python",
   "pygments_lexer": "ipython3",
   "version": "3.8.8"
  }
 },
 "nbformat": 4,
 "nbformat_minor": 5
}
